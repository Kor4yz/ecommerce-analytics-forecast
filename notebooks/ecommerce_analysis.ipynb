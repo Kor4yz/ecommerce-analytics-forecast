{
 "cells": [
  {
   "cell_type": "code",
   "execution_count": null,
   "id": "ba244b82",
   "metadata": {},
   "outputs": [],
   "source": [
    "\n",
    "# Bootstrap: generate full dataset & figures if they don't exist\n",
    "import os, numpy as np, pandas as pd\n",
    "from datetime import datetime, timedelta\n",
    "import matplotlib.pyplot as plt\n",
    "\n",
    "BASE = os.path.join('..')\n",
    "DATA = os.path.join(BASE, 'data')\n",
    "REPORTS = os.path.join(BASE, 'reports', 'figures')\n",
    "os.makedirs(DATA, exist_ok=True)\n",
    "os.makedirs(REPORTS, exist_ok=True)\n",
    "\n",
    "csv_full = os.path.join(DATA, 'transactions_sample.csv')\n",
    "if not os.path.exists(csv_full):\n",
    "    rng = np.random.default_rng(42)\n",
    "    n_users = 15000\n",
    "    n_days = 365\n",
    "    start_date = datetime(2024, 1, 1)\n",
    "    def sample_date():\n",
    "        return start_date + timedelta(days=int(rng.integers(0, n_days)))\n",
    "    def sample_channel():\n",
    "        return rng.choice(['ads','organic','email','push','referral'], p=[0.35,0.35,0.12,0.10,0.08])\n",
    "    def sample_device():\n",
    "        return rng.choice(['android','ios','web'], p=[0.5,0.3,0.2])\n",
    "    def revenue_from_device(device):\n",
    "        base = rng.normal(35, 10)\n",
    "        if device == 'ios': base *= 1.25\n",
    "        elif device == 'web': base *= 1.05\n",
    "        return max(5, base + rng.normal(0, 8))\n",
    "\n",
    "    orders = []\n",
    "    for oid in range(1, 55001):\n",
    "        uid = int(rng.integers(1, 15000))\n",
    "        dt = sample_date()\n",
    "        ch = sample_channel()\n",
    "        dev = sample_device()\n",
    "        rev = round(revenue_from_device(dev), 2)\n",
    "        is_ret = int(rng.random() < 0.45)\n",
    "        orders.append([oid, uid, dt.strftime('%Y-%m-%d'), ch, dev, rev, is_ret])\n",
    "    df_full = pd.DataFrame(orders, columns=['order_id','user_id','order_date','channel','device','revenue','is_returning'])\n",
    "    df_full['cohort_month'] = pd.to_datetime(df_full['order_date']).values.astype('datetime64[M]').astype(str)\n",
    "    df_full.to_csv(csv_full, index=False)\n",
    "\n",
    "# Quick plots\n",
    "df = pd.read_csv(csv_full, parse_dates=['order_date'])\n",
    "daily = df.groupby('order_date').agg(dau=('user_id','nunique'), revenue=('revenue','sum')).reset_index()\n",
    "plt.figure(); plt.plot(daily['order_date'], daily['dau']); plt.title('DAU'); plt.tight_layout(); plt.savefig(os.path.join(REPORTS,'dau.png')); plt.close()\n",
    "plt.figure(); plt.plot(daily['order_date'], daily['revenue']); plt.title('Revenue'); plt.tight_layout(); plt.savefig(os.path.join(REPORTS,'revenue.png')); plt.close()\n",
    "print('Dataset and figures are ready.')\n"
   ]
  },
  {
   "cell_type": "markdown",
   "id": "7bffffcd",
   "metadata": {},
   "source": [
    "# E-commerce Analytics & Forecast\n",
    "Учебный ноутбук: метрики, когорты, прогноз."
   ]
  },
  {
   "cell_type": "code",
   "execution_count": null,
   "id": "c36db06a",
   "metadata": {},
   "outputs": [],
   "source": [
    "\n",
    "import pandas as pd\n",
    "import numpy as np\n",
    "import matplotlib.pyplot as plt\n",
    "\n",
    "df = pd.read_csv('../data/transactions_sample.csv', parse_dates=['order_date'])\n",
    "df.head()\n"
   ]
  },
  {
   "cell_type": "code",
   "execution_count": null,
   "id": "0c1b5fea",
   "metadata": {},
   "outputs": [],
   "source": [
    "\n",
    "# DAU by day\n",
    "daily = df.groupby('order_date').agg(dau=('user_id','nunique'), revenue=('revenue','sum')).reset_index()\n",
    "daily.head()\n"
   ]
  },
  {
   "cell_type": "code",
   "execution_count": null,
   "id": "8141fdeb",
   "metadata": {},
   "outputs": [],
   "source": [
    "\n",
    "# Plot DAU and Revenue\n",
    "plt.figure()\n",
    "plt.plot(daily['order_date'], daily['dau'])\n",
    "plt.title('DAU')\n",
    "plt.xlabel('Date'); plt.ylabel('Users')\n",
    "plt.tight_layout(); plt.show()\n",
    "\n",
    "plt.figure()\n",
    "plt.plot(daily['order_date'], daily['revenue'])\n",
    "plt.title('Revenue')\n",
    "plt.xlabel('Date'); plt.ylabel('Revenue')\n",
    "plt.tight_layout(); plt.show()\n"
   ]
  },
  {
   "cell_type": "code",
   "execution_count": null,
   "id": "b3f1b341",
   "metadata": {},
   "outputs": [],
   "source": [
    "\n",
    "# Simple retention proxy: returning users share by month\n",
    "df['month'] = df['order_date'].dt.to_period('M')\n",
    "retention = df.groupby('month')['is_returning'].mean().reset_index()\n",
    "retention['month'] = retention['month'].astype(str)\n",
    "retention\n"
   ]
  },
  {
   "cell_type": "code",
   "execution_count": null,
   "id": "df3f3d66",
   "metadata": {},
   "outputs": [],
   "source": [
    "\n",
    "# Tiny forecast demo with Gradient Boosting\n",
    "from sklearn.model_selection import train_test_split\n",
    "from sklearn.ensemble import GradientBoostingRegressor\n",
    "from sklearn.metrics import mean_absolute_percentage_error\n",
    "\n",
    "daily = daily.sort_values('order_date').assign(\n",
    "    day_of_week=lambda x: x['order_date'].dt.weekday,\n",
    "    month=lambda x: x['order_date'].dt.month,\n",
    ")\n",
    "\n",
    "daily['rev_ma7'] = daily['revenue'].rolling(7, min_periods=1).mean()\n",
    "X = daily[['day_of_week','month','rev_ma7']].fillna(method='bfill')\n",
    "y = daily['revenue'].values\n",
    "X_train, X_test, y_train, y_test = train_test_split(X, y, test_size=0.2, shuffle=False)\n",
    "\n",
    "model = GradientBoostingRegressor(random_state=42).fit(X_train, y_train)\n",
    "pred = model.predict(X_test)\n",
    "mape = mean_absolute_percentage_error(y_test, pred)\n",
    "mape\n"
   ]
  }
 ],
 "metadata": {},
 "nbformat": 4,
 "nbformat_minor": 5
}
